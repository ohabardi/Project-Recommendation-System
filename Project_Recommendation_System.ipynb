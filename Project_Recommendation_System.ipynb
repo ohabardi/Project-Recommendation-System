{
  "nbformat": 4,
  "nbformat_minor": 0,
  "metadata": {
    "colab": {
      "provenance": [],
      "authorship_tag": "ABX9TyOVPEoJcXcAar2nV6C6/EMX",
      "include_colab_link": true
    },
    "kernelspec": {
      "name": "python3",
      "display_name": "Python 3"
    },
    "language_info": {
      "name": "python"
    }
  },
  "cells": [
    {
      "cell_type": "markdown",
      "metadata": {
        "id": "view-in-github",
        "colab_type": "text"
      },
      "source": [
        "<a href=\"https://colab.research.google.com/github/ohabardi/Project-Recommendation-System/blob/main/Project_Recommendation_System.ipynb\" target=\"_parent\"><img src=\"https://colab.research.google.com/assets/colab-badge.svg\" alt=\"Open In Colab\"/></a>"
      ]
    },
    {
      "cell_type": "code",
      "execution_count": 5,
      "metadata": {
        "colab": {
          "base_uri": "https://localhost:8080/",
          "height": 73
        },
        "id": "pQb26zbSDbuT",
        "outputId": "965e6c86-8071-432e-fe7b-a9a673a22d22"
      },
      "outputs": [
        {
          "output_type": "display_data",
          "data": {
            "text/plain": [
              "<IPython.core.display.HTML object>"
            ],
            "text/html": [
              "\n",
              "     <input type=\"file\" id=\"files-32ea1522-465b-4ae1-8ffb-7735f2e4a643\" name=\"files[]\" multiple disabled\n",
              "        style=\"border:none\" />\n",
              "     <output id=\"result-32ea1522-465b-4ae1-8ffb-7735f2e4a643\">\n",
              "      Upload widget is only available when the cell has been executed in the\n",
              "      current browser session. Please rerun this cell to enable.\n",
              "      </output>\n",
              "      <script>// Copyright 2017 Google LLC\n",
              "//\n",
              "// Licensed under the Apache License, Version 2.0 (the \"License\");\n",
              "// you may not use this file except in compliance with the License.\n",
              "// You may obtain a copy of the License at\n",
              "//\n",
              "//      http://www.apache.org/licenses/LICENSE-2.0\n",
              "//\n",
              "// Unless required by applicable law or agreed to in writing, software\n",
              "// distributed under the License is distributed on an \"AS IS\" BASIS,\n",
              "// WITHOUT WARRANTIES OR CONDITIONS OF ANY KIND, either express or implied.\n",
              "// See the License for the specific language governing permissions and\n",
              "// limitations under the License.\n",
              "\n",
              "/**\n",
              " * @fileoverview Helpers for google.colab Python module.\n",
              " */\n",
              "(function(scope) {\n",
              "function span(text, styleAttributes = {}) {\n",
              "  const element = document.createElement('span');\n",
              "  element.textContent = text;\n",
              "  for (const key of Object.keys(styleAttributes)) {\n",
              "    element.style[key] = styleAttributes[key];\n",
              "  }\n",
              "  return element;\n",
              "}\n",
              "\n",
              "// Max number of bytes which will be uploaded at a time.\n",
              "const MAX_PAYLOAD_SIZE = 100 * 1024;\n",
              "\n",
              "function _uploadFiles(inputId, outputId) {\n",
              "  const steps = uploadFilesStep(inputId, outputId);\n",
              "  const outputElement = document.getElementById(outputId);\n",
              "  // Cache steps on the outputElement to make it available for the next call\n",
              "  // to uploadFilesContinue from Python.\n",
              "  outputElement.steps = steps;\n",
              "\n",
              "  return _uploadFilesContinue(outputId);\n",
              "}\n",
              "\n",
              "// This is roughly an async generator (not supported in the browser yet),\n",
              "// where there are multiple asynchronous steps and the Python side is going\n",
              "// to poll for completion of each step.\n",
              "// This uses a Promise to block the python side on completion of each step,\n",
              "// then passes the result of the previous step as the input to the next step.\n",
              "function _uploadFilesContinue(outputId) {\n",
              "  const outputElement = document.getElementById(outputId);\n",
              "  const steps = outputElement.steps;\n",
              "\n",
              "  const next = steps.next(outputElement.lastPromiseValue);\n",
              "  return Promise.resolve(next.value.promise).then((value) => {\n",
              "    // Cache the last promise value to make it available to the next\n",
              "    // step of the generator.\n",
              "    outputElement.lastPromiseValue = value;\n",
              "    return next.value.response;\n",
              "  });\n",
              "}\n",
              "\n",
              "/**\n",
              " * Generator function which is called between each async step of the upload\n",
              " * process.\n",
              " * @param {string} inputId Element ID of the input file picker element.\n",
              " * @param {string} outputId Element ID of the output display.\n",
              " * @return {!Iterable<!Object>} Iterable of next steps.\n",
              " */\n",
              "function* uploadFilesStep(inputId, outputId) {\n",
              "  const inputElement = document.getElementById(inputId);\n",
              "  inputElement.disabled = false;\n",
              "\n",
              "  const outputElement = document.getElementById(outputId);\n",
              "  outputElement.innerHTML = '';\n",
              "\n",
              "  const pickedPromise = new Promise((resolve) => {\n",
              "    inputElement.addEventListener('change', (e) => {\n",
              "      resolve(e.target.files);\n",
              "    });\n",
              "  });\n",
              "\n",
              "  const cancel = document.createElement('button');\n",
              "  inputElement.parentElement.appendChild(cancel);\n",
              "  cancel.textContent = 'Cancel upload';\n",
              "  const cancelPromise = new Promise((resolve) => {\n",
              "    cancel.onclick = () => {\n",
              "      resolve(null);\n",
              "    };\n",
              "  });\n",
              "\n",
              "  // Wait for the user to pick the files.\n",
              "  const files = yield {\n",
              "    promise: Promise.race([pickedPromise, cancelPromise]),\n",
              "    response: {\n",
              "      action: 'starting',\n",
              "    }\n",
              "  };\n",
              "\n",
              "  cancel.remove();\n",
              "\n",
              "  // Disable the input element since further picks are not allowed.\n",
              "  inputElement.disabled = true;\n",
              "\n",
              "  if (!files) {\n",
              "    return {\n",
              "      response: {\n",
              "        action: 'complete',\n",
              "      }\n",
              "    };\n",
              "  }\n",
              "\n",
              "  for (const file of files) {\n",
              "    const li = document.createElement('li');\n",
              "    li.append(span(file.name, {fontWeight: 'bold'}));\n",
              "    li.append(span(\n",
              "        `(${file.type || 'n/a'}) - ${file.size} bytes, ` +\n",
              "        `last modified: ${\n",
              "            file.lastModifiedDate ? file.lastModifiedDate.toLocaleDateString() :\n",
              "                                    'n/a'} - `));\n",
              "    const percent = span('0% done');\n",
              "    li.appendChild(percent);\n",
              "\n",
              "    outputElement.appendChild(li);\n",
              "\n",
              "    const fileDataPromise = new Promise((resolve) => {\n",
              "      const reader = new FileReader();\n",
              "      reader.onload = (e) => {\n",
              "        resolve(e.target.result);\n",
              "      };\n",
              "      reader.readAsArrayBuffer(file);\n",
              "    });\n",
              "    // Wait for the data to be ready.\n",
              "    let fileData = yield {\n",
              "      promise: fileDataPromise,\n",
              "      response: {\n",
              "        action: 'continue',\n",
              "      }\n",
              "    };\n",
              "\n",
              "    // Use a chunked sending to avoid message size limits. See b/62115660.\n",
              "    let position = 0;\n",
              "    do {\n",
              "      const length = Math.min(fileData.byteLength - position, MAX_PAYLOAD_SIZE);\n",
              "      const chunk = new Uint8Array(fileData, position, length);\n",
              "      position += length;\n",
              "\n",
              "      const base64 = btoa(String.fromCharCode.apply(null, chunk));\n",
              "      yield {\n",
              "        response: {\n",
              "          action: 'append',\n",
              "          file: file.name,\n",
              "          data: base64,\n",
              "        },\n",
              "      };\n",
              "\n",
              "      let percentDone = fileData.byteLength === 0 ?\n",
              "          100 :\n",
              "          Math.round((position / fileData.byteLength) * 100);\n",
              "      percent.textContent = `${percentDone}% done`;\n",
              "\n",
              "    } while (position < fileData.byteLength);\n",
              "  }\n",
              "\n",
              "  // All done.\n",
              "  yield {\n",
              "    response: {\n",
              "      action: 'complete',\n",
              "    }\n",
              "  };\n",
              "}\n",
              "\n",
              "scope.google = scope.google || {};\n",
              "scope.google.colab = scope.google.colab || {};\n",
              "scope.google.colab._files = {\n",
              "  _uploadFiles,\n",
              "  _uploadFilesContinue,\n",
              "};\n",
              "})(self);\n",
              "</script> "
            ]
          },
          "metadata": {}
        },
        {
          "output_type": "stream",
          "name": "stdout",
          "text": [
            "Saving user-item-interactions.csv to user-item-interactions (1).csv\n"
          ]
        }
      ],
      "source": [
        "import pandas as pd\n",
        "from google.colab import files\n",
        "uploaded = files.upload()\n"
      ]
    },
    {
      "cell_type": "code",
      "source": [
        "df = pd.read_csv('user-item-interactions.csv')\n",
        "\n",
        "print(df.head())\n",
        "\n"
      ],
      "metadata": {
        "colab": {
          "base_uri": "https://localhost:8080/"
        },
        "id": "kdsB1fCgDvgS",
        "outputId": "55cc0fda-1be9-4ee6-ec54-18a375c03868"
      },
      "execution_count": 6,
      "outputs": [
        {
          "output_type": "stream",
          "name": "stdout",
          "text": [
            "   Unnamed: 0  article_id                                              title  \\\n",
            "0           0      1430.0  using pixiedust for fast, flexible, and easier...   \n",
            "1           1      1314.0       healthcare python streaming application demo   \n",
            "2           2      1429.0         use deep learning for image classification   \n",
            "3           3      1338.0          ml optimization using cognitive assistant   \n",
            "4           4      1276.0          deploy your python model as a restful api   \n",
            "\n",
            "                                      email  \n",
            "0  ef5f11f77ba020cd36e1105a00ab868bbdbf7fe7  \n",
            "1  083cbdfa93c8444beaa4c5f5e0f5f9198e4f9e0b  \n",
            "2  b96a4f2e92d8572034b1e9b28f9ac673765cd074  \n",
            "3  06485706b34a5c9bf2a0ecdac41daf7e7654ceb7  \n",
            "4  f01220c46fc92c6e6b161b1849de11faacd7ccb2  \n"
          ]
        }
      ]
    },
    {
      "cell_type": "code",
      "source": [
        "print(df.columns)\n"
      ],
      "metadata": {
        "colab": {
          "base_uri": "https://localhost:8080/"
        },
        "id": "EaitrGYCFeka",
        "outputId": "a96ee568-07e2-4fce-94ef-627008144fb5"
      },
      "execution_count": 7,
      "outputs": [
        {
          "output_type": "stream",
          "name": "stdout",
          "text": [
            "Index(['Unnamed: 0', 'article_id', 'title', 'email'], dtype='object')\n"
          ]
        }
      ]
    },
    {
      "cell_type": "code",
      "source": [
        "df.rename(columns={'email': 'user_id'}, inplace=True)\n"
      ],
      "metadata": {
        "id": "xHBCmJ1jF2CW"
      },
      "execution_count": 8,
      "outputs": []
    },
    {
      "cell_type": "code",
      "source": [
        "# Number of unique users\n",
        "print(f\"Unique users: {df['user_id'].nunique()}\")\n",
        "\n",
        "# Number of unique articles viewed\n",
        "print(f\"Unique articles interacted with: {df['article_id'].nunique()}\")\n",
        "\n",
        "# Total interactions\n",
        "print(f\"Total interactions: {df.shape[0]}\")\n",
        "\n",
        "# Most viewed article ID and how many times it was viewed\n",
        "most_viewed = df['article_id'].value_counts().idxmax()\n",
        "most_viewed_count = df['article_id'].value_counts().max()\n",
        "print(f\"Most viewed article ID: {most_viewed} with {most_viewed_count} views\")\n"
      ],
      "metadata": {
        "colab": {
          "base_uri": "https://localhost:8080/"
        },
        "id": "oEwqZ_sKGKql",
        "outputId": "e3fd6ac0-e174-4cf4-d009-40cb252c25f2"
      },
      "execution_count": 9,
      "outputs": [
        {
          "output_type": "stream",
          "name": "stdout",
          "text": [
            "Unique users: 5148\n",
            "Unique articles interacted with: 714\n",
            "Total interactions: 45993\n",
            "Most viewed article ID: 1429.0 with 937 views\n"
          ]
        }
      ]
    },
    {
      "cell_type": "code",
      "source": [
        "def get_top_articles(n=10):\n",
        "    top_articles = df['article_id'].value_counts().head(n).index.tolist()\n",
        "    top_titles = df[df['article_id'].isin(top_articles)][['article_id', 'title']].drop_duplicates().set_index('article_id').loc[top_articles]['title'].tolist()\n",
        "    return top_titles\n",
        "\n",
        "# Top 10 articles\n",
        "get_top_articles(10)\n"
      ],
      "metadata": {
        "colab": {
          "base_uri": "https://localhost:8080/"
        },
        "id": "oOOJ5q1UGMvm",
        "outputId": "c0508bcc-001f-47e7-c028-e8b4dec7218b"
      },
      "execution_count": 10,
      "outputs": [
        {
          "output_type": "execute_result",
          "data": {
            "text/plain": [
              "['use deep learning for image classification',\n",
              " 'insights from new york car accident reports',\n",
              " 'visualize car data with brunel',\n",
              " 'use xgboost, scikit-learn & ibm watson machine learning apis',\n",
              " 'predicting churn with the spss random tree algorithm',\n",
              " 'healthcare python streaming application demo',\n",
              " 'finding optimal locations of new store using decision optimization',\n",
              " 'apache spark lab, part 1: basic concepts',\n",
              " 'analyze energy consumption in buildings',\n",
              " 'gosales transactions for logistic regression model']"
            ]
          },
          "metadata": {},
          "execution_count": 10
        }
      ]
    },
    {
      "cell_type": "code",
      "source": [
        "# Rebuild the matrix using 1s (viewed) and 0s (not viewed)\n",
        "user_item = df.groupby(['user_id', 'article_id'])['title'].count().unstack().fillna(0)\n",
        "user_item = user_item.applymap(lambda x: 1 if x > 0 else 0)\n",
        "\n",
        "user_item.head()\n"
      ],
      "metadata": {
        "colab": {
          "base_uri": "https://localhost:8080/",
          "height": 321
        },
        "id": "_T6pBKcrGfzG",
        "outputId": "89895f4e-f73e-4fe1-b91f-aa870933c835"
      },
      "execution_count": 11,
      "outputs": [
        {
          "output_type": "stream",
          "name": "stderr",
          "text": [
            "<ipython-input-11-e5dbe408ded4>:3: FutureWarning: DataFrame.applymap has been deprecated. Use DataFrame.map instead.\n",
            "  user_item = user_item.applymap(lambda x: 1 if x > 0 else 0)\n"
          ]
        },
        {
          "output_type": "execute_result",
          "data": {
            "text/plain": [
              "article_id                                0.0     2.0     4.0     8.0     \\\n",
              "user_id                                                                    \n",
              "0000b6387a0366322d7fbfc6434af145adf7fed1       0       0       0       0   \n",
              "001055fc0bb67f71e8fa17002342b256a30254cd       0       0       0       0   \n",
              "00148e4911c7e04eeff8def7bbbdaf1c59c2c621       0       0       0       0   \n",
              "001a852ecbd6cc12ab77a785efa137b2646505fe       0       0       0       0   \n",
              "001fc95b90da5c3cb12c501d201a915e4f093290       0       0       0       0   \n",
              "\n",
              "article_id                                9.0     12.0    14.0    15.0    \\\n",
              "user_id                                                                    \n",
              "0000b6387a0366322d7fbfc6434af145adf7fed1       0       0       0       0   \n",
              "001055fc0bb67f71e8fa17002342b256a30254cd       0       0       0       0   \n",
              "00148e4911c7e04eeff8def7bbbdaf1c59c2c621       0       0       0       0   \n",
              "001a852ecbd6cc12ab77a785efa137b2646505fe       0       0       0       0   \n",
              "001fc95b90da5c3cb12c501d201a915e4f093290       0       0       0       0   \n",
              "\n",
              "article_id                                16.0    18.0    ...  1434.0  1435.0  \\\n",
              "user_id                                                   ...                   \n",
              "0000b6387a0366322d7fbfc6434af145adf7fed1       0       0  ...       0       0   \n",
              "001055fc0bb67f71e8fa17002342b256a30254cd       0       0  ...       0       0   \n",
              "00148e4911c7e04eeff8def7bbbdaf1c59c2c621       0       0  ...       0       0   \n",
              "001a852ecbd6cc12ab77a785efa137b2646505fe       0       0  ...       0       0   \n",
              "001fc95b90da5c3cb12c501d201a915e4f093290       0       0  ...       0       0   \n",
              "\n",
              "article_id                                1436.0  1437.0  1439.0  1440.0  \\\n",
              "user_id                                                                    \n",
              "0000b6387a0366322d7fbfc6434af145adf7fed1       0       0       0       0   \n",
              "001055fc0bb67f71e8fa17002342b256a30254cd       0       0       0       0   \n",
              "00148e4911c7e04eeff8def7bbbdaf1c59c2c621       0       0       0       0   \n",
              "001a852ecbd6cc12ab77a785efa137b2646505fe       0       0       0       0   \n",
              "001fc95b90da5c3cb12c501d201a915e4f093290       0       0       0       0   \n",
              "\n",
              "article_id                                1441.0  1442.0  1443.0  1444.0  \n",
              "user_id                                                                   \n",
              "0000b6387a0366322d7fbfc6434af145adf7fed1       0       0       0       0  \n",
              "001055fc0bb67f71e8fa17002342b256a30254cd       0       0       0       0  \n",
              "00148e4911c7e04eeff8def7bbbdaf1c59c2c621       0       0       0       0  \n",
              "001a852ecbd6cc12ab77a785efa137b2646505fe       0       0       0       0  \n",
              "001fc95b90da5c3cb12c501d201a915e4f093290       0       0       0       0  \n",
              "\n",
              "[5 rows x 714 columns]"
            ],
            "text/html": [
              "\n",
              "  <div id=\"df-f988fe84-784c-4dec-a200-629711ec4e90\" class=\"colab-df-container\">\n",
              "    <div>\n",
              "<style scoped>\n",
              "    .dataframe tbody tr th:only-of-type {\n",
              "        vertical-align: middle;\n",
              "    }\n",
              "\n",
              "    .dataframe tbody tr th {\n",
              "        vertical-align: top;\n",
              "    }\n",
              "\n",
              "    .dataframe thead th {\n",
              "        text-align: right;\n",
              "    }\n",
              "</style>\n",
              "<table border=\"1\" class=\"dataframe\">\n",
              "  <thead>\n",
              "    <tr style=\"text-align: right;\">\n",
              "      <th>article_id</th>\n",
              "      <th>0.0</th>\n",
              "      <th>2.0</th>\n",
              "      <th>4.0</th>\n",
              "      <th>8.0</th>\n",
              "      <th>9.0</th>\n",
              "      <th>12.0</th>\n",
              "      <th>14.0</th>\n",
              "      <th>15.0</th>\n",
              "      <th>16.0</th>\n",
              "      <th>18.0</th>\n",
              "      <th>...</th>\n",
              "      <th>1434.0</th>\n",
              "      <th>1435.0</th>\n",
              "      <th>1436.0</th>\n",
              "      <th>1437.0</th>\n",
              "      <th>1439.0</th>\n",
              "      <th>1440.0</th>\n",
              "      <th>1441.0</th>\n",
              "      <th>1442.0</th>\n",
              "      <th>1443.0</th>\n",
              "      <th>1444.0</th>\n",
              "    </tr>\n",
              "    <tr>\n",
              "      <th>user_id</th>\n",
              "      <th></th>\n",
              "      <th></th>\n",
              "      <th></th>\n",
              "      <th></th>\n",
              "      <th></th>\n",
              "      <th></th>\n",
              "      <th></th>\n",
              "      <th></th>\n",
              "      <th></th>\n",
              "      <th></th>\n",
              "      <th></th>\n",
              "      <th></th>\n",
              "      <th></th>\n",
              "      <th></th>\n",
              "      <th></th>\n",
              "      <th></th>\n",
              "      <th></th>\n",
              "      <th></th>\n",
              "      <th></th>\n",
              "      <th></th>\n",
              "      <th></th>\n",
              "    </tr>\n",
              "  </thead>\n",
              "  <tbody>\n",
              "    <tr>\n",
              "      <th>0000b6387a0366322d7fbfc6434af145adf7fed1</th>\n",
              "      <td>0</td>\n",
              "      <td>0</td>\n",
              "      <td>0</td>\n",
              "      <td>0</td>\n",
              "      <td>0</td>\n",
              "      <td>0</td>\n",
              "      <td>0</td>\n",
              "      <td>0</td>\n",
              "      <td>0</td>\n",
              "      <td>0</td>\n",
              "      <td>...</td>\n",
              "      <td>0</td>\n",
              "      <td>0</td>\n",
              "      <td>0</td>\n",
              "      <td>0</td>\n",
              "      <td>0</td>\n",
              "      <td>0</td>\n",
              "      <td>0</td>\n",
              "      <td>0</td>\n",
              "      <td>0</td>\n",
              "      <td>0</td>\n",
              "    </tr>\n",
              "    <tr>\n",
              "      <th>001055fc0bb67f71e8fa17002342b256a30254cd</th>\n",
              "      <td>0</td>\n",
              "      <td>0</td>\n",
              "      <td>0</td>\n",
              "      <td>0</td>\n",
              "      <td>0</td>\n",
              "      <td>0</td>\n",
              "      <td>0</td>\n",
              "      <td>0</td>\n",
              "      <td>0</td>\n",
              "      <td>0</td>\n",
              "      <td>...</td>\n",
              "      <td>0</td>\n",
              "      <td>0</td>\n",
              "      <td>0</td>\n",
              "      <td>0</td>\n",
              "      <td>0</td>\n",
              "      <td>0</td>\n",
              "      <td>0</td>\n",
              "      <td>0</td>\n",
              "      <td>0</td>\n",
              "      <td>0</td>\n",
              "    </tr>\n",
              "    <tr>\n",
              "      <th>00148e4911c7e04eeff8def7bbbdaf1c59c2c621</th>\n",
              "      <td>0</td>\n",
              "      <td>0</td>\n",
              "      <td>0</td>\n",
              "      <td>0</td>\n",
              "      <td>0</td>\n",
              "      <td>0</td>\n",
              "      <td>0</td>\n",
              "      <td>0</td>\n",
              "      <td>0</td>\n",
              "      <td>0</td>\n",
              "      <td>...</td>\n",
              "      <td>0</td>\n",
              "      <td>0</td>\n",
              "      <td>0</td>\n",
              "      <td>0</td>\n",
              "      <td>0</td>\n",
              "      <td>0</td>\n",
              "      <td>0</td>\n",
              "      <td>0</td>\n",
              "      <td>0</td>\n",
              "      <td>0</td>\n",
              "    </tr>\n",
              "    <tr>\n",
              "      <th>001a852ecbd6cc12ab77a785efa137b2646505fe</th>\n",
              "      <td>0</td>\n",
              "      <td>0</td>\n",
              "      <td>0</td>\n",
              "      <td>0</td>\n",
              "      <td>0</td>\n",
              "      <td>0</td>\n",
              "      <td>0</td>\n",
              "      <td>0</td>\n",
              "      <td>0</td>\n",
              "      <td>0</td>\n",
              "      <td>...</td>\n",
              "      <td>0</td>\n",
              "      <td>0</td>\n",
              "      <td>0</td>\n",
              "      <td>0</td>\n",
              "      <td>0</td>\n",
              "      <td>0</td>\n",
              "      <td>0</td>\n",
              "      <td>0</td>\n",
              "      <td>0</td>\n",
              "      <td>0</td>\n",
              "    </tr>\n",
              "    <tr>\n",
              "      <th>001fc95b90da5c3cb12c501d201a915e4f093290</th>\n",
              "      <td>0</td>\n",
              "      <td>0</td>\n",
              "      <td>0</td>\n",
              "      <td>0</td>\n",
              "      <td>0</td>\n",
              "      <td>0</td>\n",
              "      <td>0</td>\n",
              "      <td>0</td>\n",
              "      <td>0</td>\n",
              "      <td>0</td>\n",
              "      <td>...</td>\n",
              "      <td>0</td>\n",
              "      <td>0</td>\n",
              "      <td>0</td>\n",
              "      <td>0</td>\n",
              "      <td>0</td>\n",
              "      <td>0</td>\n",
              "      <td>0</td>\n",
              "      <td>0</td>\n",
              "      <td>0</td>\n",
              "      <td>0</td>\n",
              "    </tr>\n",
              "  </tbody>\n",
              "</table>\n",
              "<p>5 rows × 714 columns</p>\n",
              "</div>\n",
              "    <div class=\"colab-df-buttons\">\n",
              "\n",
              "  <div class=\"colab-df-container\">\n",
              "    <button class=\"colab-df-convert\" onclick=\"convertToInteractive('df-f988fe84-784c-4dec-a200-629711ec4e90')\"\n",
              "            title=\"Convert this dataframe to an interactive table.\"\n",
              "            style=\"display:none;\">\n",
              "\n",
              "  <svg xmlns=\"http://www.w3.org/2000/svg\" height=\"24px\" viewBox=\"0 -960 960 960\">\n",
              "    <path d=\"M120-120v-720h720v720H120Zm60-500h600v-160H180v160Zm220 220h160v-160H400v160Zm0 220h160v-160H400v160ZM180-400h160v-160H180v160Zm440 0h160v-160H620v160ZM180-180h160v-160H180v160Zm440 0h160v-160H620v160Z\"/>\n",
              "  </svg>\n",
              "    </button>\n",
              "\n",
              "  <style>\n",
              "    .colab-df-container {\n",
              "      display:flex;\n",
              "      gap: 12px;\n",
              "    }\n",
              "\n",
              "    .colab-df-convert {\n",
              "      background-color: #E8F0FE;\n",
              "      border: none;\n",
              "      border-radius: 50%;\n",
              "      cursor: pointer;\n",
              "      display: none;\n",
              "      fill: #1967D2;\n",
              "      height: 32px;\n",
              "      padding: 0 0 0 0;\n",
              "      width: 32px;\n",
              "    }\n",
              "\n",
              "    .colab-df-convert:hover {\n",
              "      background-color: #E2EBFA;\n",
              "      box-shadow: 0px 1px 2px rgba(60, 64, 67, 0.3), 0px 1px 3px 1px rgba(60, 64, 67, 0.15);\n",
              "      fill: #174EA6;\n",
              "    }\n",
              "\n",
              "    .colab-df-buttons div {\n",
              "      margin-bottom: 4px;\n",
              "    }\n",
              "\n",
              "    [theme=dark] .colab-df-convert {\n",
              "      background-color: #3B4455;\n",
              "      fill: #D2E3FC;\n",
              "    }\n",
              "\n",
              "    [theme=dark] .colab-df-convert:hover {\n",
              "      background-color: #434B5C;\n",
              "      box-shadow: 0px 1px 3px 1px rgba(0, 0, 0, 0.15);\n",
              "      filter: drop-shadow(0px 1px 2px rgba(0, 0, 0, 0.3));\n",
              "      fill: #FFFFFF;\n",
              "    }\n",
              "  </style>\n",
              "\n",
              "    <script>\n",
              "      const buttonEl =\n",
              "        document.querySelector('#df-f988fe84-784c-4dec-a200-629711ec4e90 button.colab-df-convert');\n",
              "      buttonEl.style.display =\n",
              "        google.colab.kernel.accessAllowed ? 'block' : 'none';\n",
              "\n",
              "      async function convertToInteractive(key) {\n",
              "        const element = document.querySelector('#df-f988fe84-784c-4dec-a200-629711ec4e90');\n",
              "        const dataTable =\n",
              "          await google.colab.kernel.invokeFunction('convertToInteractive',\n",
              "                                                    [key], {});\n",
              "        if (!dataTable) return;\n",
              "\n",
              "        const docLinkHtml = 'Like what you see? Visit the ' +\n",
              "          '<a target=\"_blank\" href=https://colab.research.google.com/notebooks/data_table.ipynb>data table notebook</a>'\n",
              "          + ' to learn more about interactive tables.';\n",
              "        element.innerHTML = '';\n",
              "        dataTable['output_type'] = 'display_data';\n",
              "        await google.colab.output.renderOutput(dataTable, element);\n",
              "        const docLink = document.createElement('div');\n",
              "        docLink.innerHTML = docLinkHtml;\n",
              "        element.appendChild(docLink);\n",
              "      }\n",
              "    </script>\n",
              "  </div>\n",
              "\n",
              "\n",
              "    <div id=\"df-343d826b-dae5-447c-8d2a-ee07cfa4f89a\">\n",
              "      <button class=\"colab-df-quickchart\" onclick=\"quickchart('df-343d826b-dae5-447c-8d2a-ee07cfa4f89a')\"\n",
              "                title=\"Suggest charts\"\n",
              "                style=\"display:none;\">\n",
              "\n",
              "<svg xmlns=\"http://www.w3.org/2000/svg\" height=\"24px\"viewBox=\"0 0 24 24\"\n",
              "     width=\"24px\">\n",
              "    <g>\n",
              "        <path d=\"M19 3H5c-1.1 0-2 .9-2 2v14c0 1.1.9 2 2 2h14c1.1 0 2-.9 2-2V5c0-1.1-.9-2-2-2zM9 17H7v-7h2v7zm4 0h-2V7h2v10zm4 0h-2v-4h2v4z\"/>\n",
              "    </g>\n",
              "</svg>\n",
              "      </button>\n",
              "\n",
              "<style>\n",
              "  .colab-df-quickchart {\n",
              "      --bg-color: #E8F0FE;\n",
              "      --fill-color: #1967D2;\n",
              "      --hover-bg-color: #E2EBFA;\n",
              "      --hover-fill-color: #174EA6;\n",
              "      --disabled-fill-color: #AAA;\n",
              "      --disabled-bg-color: #DDD;\n",
              "  }\n",
              "\n",
              "  [theme=dark] .colab-df-quickchart {\n",
              "      --bg-color: #3B4455;\n",
              "      --fill-color: #D2E3FC;\n",
              "      --hover-bg-color: #434B5C;\n",
              "      --hover-fill-color: #FFFFFF;\n",
              "      --disabled-bg-color: #3B4455;\n",
              "      --disabled-fill-color: #666;\n",
              "  }\n",
              "\n",
              "  .colab-df-quickchart {\n",
              "    background-color: var(--bg-color);\n",
              "    border: none;\n",
              "    border-radius: 50%;\n",
              "    cursor: pointer;\n",
              "    display: none;\n",
              "    fill: var(--fill-color);\n",
              "    height: 32px;\n",
              "    padding: 0;\n",
              "    width: 32px;\n",
              "  }\n",
              "\n",
              "  .colab-df-quickchart:hover {\n",
              "    background-color: var(--hover-bg-color);\n",
              "    box-shadow: 0 1px 2px rgba(60, 64, 67, 0.3), 0 1px 3px 1px rgba(60, 64, 67, 0.15);\n",
              "    fill: var(--button-hover-fill-color);\n",
              "  }\n",
              "\n",
              "  .colab-df-quickchart-complete:disabled,\n",
              "  .colab-df-quickchart-complete:disabled:hover {\n",
              "    background-color: var(--disabled-bg-color);\n",
              "    fill: var(--disabled-fill-color);\n",
              "    box-shadow: none;\n",
              "  }\n",
              "\n",
              "  .colab-df-spinner {\n",
              "    border: 2px solid var(--fill-color);\n",
              "    border-color: transparent;\n",
              "    border-bottom-color: var(--fill-color);\n",
              "    animation:\n",
              "      spin 1s steps(1) infinite;\n",
              "  }\n",
              "\n",
              "  @keyframes spin {\n",
              "    0% {\n",
              "      border-color: transparent;\n",
              "      border-bottom-color: var(--fill-color);\n",
              "      border-left-color: var(--fill-color);\n",
              "    }\n",
              "    20% {\n",
              "      border-color: transparent;\n",
              "      border-left-color: var(--fill-color);\n",
              "      border-top-color: var(--fill-color);\n",
              "    }\n",
              "    30% {\n",
              "      border-color: transparent;\n",
              "      border-left-color: var(--fill-color);\n",
              "      border-top-color: var(--fill-color);\n",
              "      border-right-color: var(--fill-color);\n",
              "    }\n",
              "    40% {\n",
              "      border-color: transparent;\n",
              "      border-right-color: var(--fill-color);\n",
              "      border-top-color: var(--fill-color);\n",
              "    }\n",
              "    60% {\n",
              "      border-color: transparent;\n",
              "      border-right-color: var(--fill-color);\n",
              "    }\n",
              "    80% {\n",
              "      border-color: transparent;\n",
              "      border-right-color: var(--fill-color);\n",
              "      border-bottom-color: var(--fill-color);\n",
              "    }\n",
              "    90% {\n",
              "      border-color: transparent;\n",
              "      border-bottom-color: var(--fill-color);\n",
              "    }\n",
              "  }\n",
              "</style>\n",
              "\n",
              "      <script>\n",
              "        async function quickchart(key) {\n",
              "          const quickchartButtonEl =\n",
              "            document.querySelector('#' + key + ' button');\n",
              "          quickchartButtonEl.disabled = true;  // To prevent multiple clicks.\n",
              "          quickchartButtonEl.classList.add('colab-df-spinner');\n",
              "          try {\n",
              "            const charts = await google.colab.kernel.invokeFunction(\n",
              "                'suggestCharts', [key], {});\n",
              "          } catch (error) {\n",
              "            console.error('Error during call to suggestCharts:', error);\n",
              "          }\n",
              "          quickchartButtonEl.classList.remove('colab-df-spinner');\n",
              "          quickchartButtonEl.classList.add('colab-df-quickchart-complete');\n",
              "        }\n",
              "        (() => {\n",
              "          let quickchartButtonEl =\n",
              "            document.querySelector('#df-343d826b-dae5-447c-8d2a-ee07cfa4f89a button');\n",
              "          quickchartButtonEl.style.display =\n",
              "            google.colab.kernel.accessAllowed ? 'block' : 'none';\n",
              "        })();\n",
              "      </script>\n",
              "    </div>\n",
              "\n",
              "    </div>\n",
              "  </div>\n"
            ],
            "application/vnd.google.colaboratory.intrinsic+json": {
              "type": "dataframe",
              "variable_name": "user_item"
            }
          },
          "metadata": {},
          "execution_count": 11
        }
      ]
    },
    {
      "cell_type": "code",
      "source": [
        "def find_similar_users(user_id, user_item):\n",
        "    \"\"\"\n",
        "    Input:\n",
        "    - user_id: target user ID (string)\n",
        "    - user_item: user-item interaction matrix\n",
        "\n",
        "    Output:\n",
        "    - List of similar users sorted by similarity score\n",
        "    \"\"\"\n",
        "    # Target user vector\n",
        "    target_vector = user_item.loc[user_id].values\n",
        "\n",
        "    # Dot product with all users\n",
        "    similarity = user_item.dot(target_vector)\n",
        "\n",
        "    # Drop self\n",
        "    similarity = similarity.drop(user_id)\n",
        "\n",
        "    # Sort by similarity score (descending)\n",
        "    most_similar_users = similarity.sort_values(ascending=False).index.tolist()\n",
        "\n",
        "    return most_similar_users\n"
      ],
      "metadata": {
        "id": "_jfihxgYG7Tj"
      },
      "execution_count": 12,
      "outputs": []
    },
    {
      "cell_type": "code",
      "source": [
        "similar_users = find_similar_users('0000b6387a0366322d7fbfc6434af145adf7fed1', user_item)\n",
        "print(similar_users[:5])  # Top 5 similar users\n"
      ],
      "metadata": {
        "colab": {
          "base_uri": "https://localhost:8080/"
        },
        "id": "m5p5zO9vG6eH",
        "outputId": "bb3cbcba-33c9-4616-8be8-ed1118820ce6"
      },
      "execution_count": 13,
      "outputs": [
        {
          "output_type": "stream",
          "name": "stdout",
          "text": [
            "['c5b9dbdba62cc46e0b6a767ffe9c620e3abd61e6', 'a37adec71b667b297ed2440a9ff7dad427c7ac85', '2f5c7feae533ce046f2cb16fb3a29fe00528ed66', '9f576497193bea24479d95e85bea76da681871c7', '1749cf3b1caa1b6ef860bfb9898fa46701f7210a']\n"
          ]
        }
      ]
    },
    {
      "cell_type": "code",
      "source": [
        "def get_article_names(article_ids, df):\n",
        "    \"\"\"\n",
        "    Convert article IDs to article titles\n",
        "    \"\"\"\n",
        "    return df[df['article_id'].isin(article_ids)]['title'].drop_duplicates().tolist()\n",
        "\n",
        "def user_user_recs(user_id, m=10):\n",
        "    \"\"\"\n",
        "    Recommend m articles for the given user_id based on similar users\n",
        "    \"\"\"\n",
        "    recs = []\n",
        "    seen_articles = set(user_item.loc[user_id][user_item.loc[user_id] == 1].index.tolist())\n",
        "    similar_users = find_similar_users(user_id, user_item)\n",
        "\n",
        "    for sim_user in similar_users:\n",
        "        sim_articles = set(user_item.loc[sim_user][user_item.loc[sim_user] == 1].index.tolist())\n",
        "        new_recs = sim_articles - seen_articles\n",
        "\n",
        "        for article in new_recs:\n",
        "            if article not in recs:\n",
        "                recs.append(article)\n",
        "            if len(recs) >= m:\n",
        "                break\n",
        "        if len(recs) >= m:\n",
        "            break\n",
        "\n",
        "    return get_article_names(recs, df)\n"
      ],
      "metadata": {
        "id": "YzN4A25NHx0k"
      },
      "execution_count": 14,
      "outputs": []
    },
    {
      "cell_type": "code",
      "source": [
        "user_user_recs('0000b6387a0366322d7fbfc6434af145adf7fed1', 5)\n"
      ],
      "metadata": {
        "colab": {
          "base_uri": "https://localhost:8080/"
        },
        "id": "1qpwXUjMIF06",
        "outputId": "4bc646f0-efd0-4d97-d898-cb624c6a9fde"
      },
      "execution_count": 15,
      "outputs": [
        {
          "output_type": "execute_result",
          "data": {
            "text/plain": [
              "[\"a beginner's guide to variational methods\",\n",
              " 'this week in data science (april 18, 2017)',\n",
              " 'data tidying in data science experience',\n",
              " 'using deep learning to reconstruct high-resolution audio',\n",
              " '7 types of job profiles that makes you a data scientist']"
            ]
          },
          "metadata": {},
          "execution_count": 15
        }
      ]
    },
    {
      "cell_type": "code",
      "source": [
        "from sklearn.feature_extraction.text import TfidfVectorizer\n",
        "from sklearn.metrics.pairwise import cosine_similarity\n",
        "\n",
        "# Drop duplicates to get one title per article\n",
        "df_titles = df[['article_id', 'title']].drop_duplicates()\n",
        "\n",
        "# TF-IDF Vectorization\n",
        "tfidf = TfidfVectorizer(stop_words='english')\n",
        "tfidf_matrix = tfidf.fit_transform(df_titles['title'])\n",
        "\n",
        "# Cosine Similarity\n",
        "cosine_sim = cosine_similarity(tfidf_matrix, tfidf_matrix)\n",
        "\n",
        "# Mapping article_id to index\n",
        "indices = pd.Series(df_titles.index, index=df_titles['article_id'])\n"
      ],
      "metadata": {
        "id": "w4CG2r8EIIIm"
      },
      "execution_count": 16,
      "outputs": []
    },
    {
      "cell_type": "code",
      "source": [
        "def content_recommender(article_id, num_recs=5):\n",
        "    \"\"\"\n",
        "    Recommend articles similar to the given article_id based on title similarity.\n",
        "    \"\"\"\n",
        "    # Get index of the article\n",
        "    idx = indices[article_id]\n",
        "\n",
        "    # Get pairwise similarity scores\n",
        "    sim_scores = list(enumerate(cosine_sim[idx]))\n",
        "\n",
        "    # Sort by similarity score (excluding itself)\n",
        "    sim_scores = sorted(sim_scores, key=lambda x: x[1], reverse=True)[1:num_recs+1]\n",
        "\n",
        "    # Get the indices of the top similar articles\n",
        "    article_indices = [i[0] for i in sim_scores]\n",
        "\n",
        "    # Get article IDs\n",
        "    recommended_ids = df_titles.iloc[article_indices]['article_id'].tolist()\n",
        "\n",
        "    # Get article titles\n",
        "    return df_titles[df_titles['article_id'].isin(recommended_ids)]['title'].tolist()\n"
      ],
      "metadata": {
        "id": "bpiw2wg9JX0t"
      },
      "execution_count": 17,
      "outputs": []
    },
    {
      "cell_type": "code",
      "source": [
        "!pip install numpy==1.24.4\n"
      ],
      "metadata": {
        "colab": {
          "base_uri": "https://localhost:8080/"
        },
        "id": "lcvcQa4bJe2a",
        "outputId": "37069852-9dbd-404a-ad96-dd1540a0a954"
      },
      "execution_count": 18,
      "outputs": [
        {
          "output_type": "stream",
          "name": "stdout",
          "text": [
            "Requirement already satisfied: numpy==1.24.4 in /usr/local/lib/python3.11/dist-packages (1.24.4)\n"
          ]
        }
      ]
    },
    {
      "cell_type": "code",
      "source": [
        "!pip install scikit-surprise --upgrade --no-binary :all:\n"
      ],
      "metadata": {
        "colab": {
          "base_uri": "https://localhost:8080/"
        },
        "id": "2fSUcVL-Jkh4",
        "outputId": "0ac60b39-d0b3-494c-aa39-927347bf176c"
      },
      "execution_count": 19,
      "outputs": [
        {
          "output_type": "stream",
          "name": "stdout",
          "text": [
            "Requirement already satisfied: scikit-surprise in /usr/local/lib/python3.11/dist-packages (1.1.4)\n",
            "Requirement already satisfied: joblib>=1.2.0 in /usr/local/lib/python3.11/dist-packages (from scikit-surprise) (1.5.0)\n",
            "Requirement already satisfied: numpy>=1.19.5 in /usr/local/lib/python3.11/dist-packages (from scikit-surprise) (1.24.4)\n",
            "Requirement already satisfied: scipy>=1.6.0 in /usr/local/lib/python3.11/dist-packages (from scikit-surprise) (1.15.3)\n"
          ]
        }
      ]
    },
    {
      "cell_type": "code",
      "source": [
        "from surprise import Dataset, Reader\n",
        "from surprise.model_selection import train_test_split\n",
        "from surprise import SVD\n",
        "from surprise import accuracy\n"
      ],
      "metadata": {
        "id": "DlPU0dx9KFa5"
      },
      "execution_count": 20,
      "outputs": []
    },
    {
      "cell_type": "code",
      "source": [
        "# Prepare your data (already done before this if you followed earlier)\n",
        "df_svd = df[['user_id', 'article_id']].copy()\n",
        "df_svd['interaction'] = 1  # Implicit rating: viewed = 1\n",
        "\n",
        "from surprise import Dataset, Reader\n",
        "reader = Reader(rating_scale=(0, 1))\n",
        "data = Dataset.load_from_df(df_svd[['user_id', 'article_id', 'interaction']], reader)\n",
        "\n",
        "from surprise.model_selection import train_test_split\n",
        "trainset, testset = train_test_split(data, test_size=0.2, random_state=42)\n",
        "\n",
        "# Train FunkSVD\n",
        "from surprise import SVD\n",
        "model = SVD(n_factors=50, random_state=42)\n",
        "model.fit(trainset)\n",
        "\n",
        "# Evaluate on test set\n",
        "from surprise import accuracy\n",
        "predictions = model.test(testset)\n",
        "accuracy.rmse(predictions)\n"
      ],
      "metadata": {
        "colab": {
          "base_uri": "https://localhost:8080/"
        },
        "id": "Zhodnt6MLAip",
        "outputId": "d0883940-1efa-449c-ab27-abfe5977d8e4"
      },
      "execution_count": 21,
      "outputs": [
        {
          "output_type": "stream",
          "name": "stdout",
          "text": [
            "RMSE: 0.0296\n"
          ]
        },
        {
          "output_type": "execute_result",
          "data": {
            "text/plain": [
              "0.029593412020668185"
            ]
          },
          "metadata": {},
          "execution_count": 21
        }
      ]
    },
    {
      "cell_type": "code",
      "source": [
        "def svd_recommender(user_id, df, model, m=5):\n",
        "    \"\"\"\n",
        "    Recommend m articles for the user using the trained SVD model.\n",
        "    \"\"\"\n",
        "    seen_articles = set(df[df['user_id'] == user_id]['article_id'])\n",
        "    all_articles = set(df['article_id'].unique())\n",
        "    unseen_articles = list(all_articles - seen_articles)\n",
        "\n",
        "    # Predict interaction score for each unseen article\n",
        "    preds = [(aid, model.predict(user_id, aid).est) for aid in unseen_articles]\n",
        "\n",
        "    # Sort by predicted score\n",
        "    preds_sorted = sorted(preds, key=lambda x: x[1], reverse=True)[:m]\n",
        "\n",
        "    # Convert to titles\n",
        "    top_article_ids = [x[0] for x in preds_sorted]\n",
        "    top_titles = df[df['article_id'].isin(top_article_ids)][['article_id', 'title']].drop_duplicates().set_index('article_id').loc[top_article_ids]['title'].tolist()\n",
        "\n",
        "    return top_titles\n"
      ],
      "metadata": {
        "id": "3jnsLmtBLGAR"
      },
      "execution_count": 22,
      "outputs": []
    },
    {
      "cell_type": "code",
      "source": [
        "svd_recommender('0000b6387a0366322d7fbfc6434af145adf7fed1', df, model, m=5)"
      ],
      "metadata": {
        "colab": {
          "base_uri": "https://localhost:8080/"
        },
        "id": "BDrcpyR1MKlI",
        "outputId": "3b0f654b-3ee5-4a13-97a7-e756a9d80c60"
      },
      "execution_count": 23,
      "outputs": [
        {
          "output_type": "execute_result",
          "data": {
            "text/plain": [
              "['detect malfunctioning iot sensors with streaming analytics',\n",
              " 'this week in data science (april 18, 2017)',\n",
              " 'analyze ny restaurant data using spark in dsx',\n",
              " 'got zip code data? prep it for analytics. – ibm watson data lab – medium',\n",
              " 'apache spark™ 2.0: extend structured streaming for spark ml']"
            ]
          },
          "metadata": {},
          "execution_count": 23
        }
      ]
    },
    {
      "cell_type": "code",
      "source": [],
      "metadata": {
        "id": "8yzAKtoYNczJ"
      },
      "execution_count": null,
      "outputs": []
    },
    {
      "cell_type": "markdown",
      "source": [
        " Final Comparison & Conclusions\n",
        " Summary of Recommendation Techniques\n",
        "1. Rank-Based Recommendations\n",
        "Approach: Recommend top N most viewed articles.\n",
        "\n",
        "Strengths:\n",
        "\n",
        "Fast and simple.\n",
        "\n",
        "Works for new or anonymous users.\n",
        "\n",
        "Weaknesses:\n",
        "\n",
        "Not personalized.\n",
        "\n",
        "Same content shown to everyone.\n",
        "\n",
        "Use case: Homepage trending section or cold-start fallback.\n",
        "\n",
        "2. User-User Collaborative Filtering\n",
        "Approach: Recommend articles that similar users have interacted with.\n",
        "\n",
        "Strengths:\n",
        "\n",
        "Personalized without content knowledge.\n",
        "\n",
        "Captures behavior-based preferences.\n",
        "\n",
        "Weaknesses:\n",
        "\n",
        "Struggles with new users (cold start).\n",
        "\n",
        "Performance drops with sparse data.\n",
        "\n",
        "Use case: Logged-in users with some interaction history.\n",
        "\n",
        "3. Content-Based Filtering\n",
        "Approach: Recommend articles similar in title (using TF-IDF + cosine similarity).\n",
        "\n",
        "Strengths:\n",
        "\n",
        "Doesn’t require user behavior.\n",
        "\n",
        "Makes explainable recommendations.\n",
        "\n",
        "Weaknesses:\n",
        "\n",
        "Depends heavily on the quality of content metadata (title only).\n",
        "\n",
        "Can be repetitive (recommends similar types over and over).\n",
        "\n",
        "Use case: Suggesting similar articles after reading one.\n",
        "\n",
        "4. Matrix Factorization (FunkSVD)\n",
        "Approach: Learn latent features of users and items using implicit feedback.\n",
        "\n",
        "Strengths:\n",
        "\n",
        "Highly personalized and data-driven.\n",
        "\n",
        "Can generalize well even with minimal overlap.\n",
        "\n",
        "Weaknesses:\n",
        "\n",
        "Requires enough data to learn patterns.\n",
        "\n",
        "Black-box model — hard to explain predictions.\n",
        "\n",
        "Use case: High-quality personalized feeds or email recommendations."
      ],
      "metadata": {
        "id": "zvB7JYJsNAjP"
      }
    },
    {
      "cell_type": "markdown",
      "source": [
        "## 💡 Matrix Factorization Explanation\n",
        "\n",
        "FunkSVD decomposes the user-item matrix into:\n",
        "- **U** (user-feature matrix)\n",
        "- **Σ** (strength of latent features)\n",
        "- **Vᵀ** (item-feature matrix)\n",
        "\n",
        "This allows us to capture hidden relationships like:\n",
        "> \"Users who like A and B tend to like C\"\n",
        "\n",
        "The model can make predictions for unseen user-article pairs, even when direct overlap doesn't exist.\n",
        "\n",
        "I selected `n_factors=50` based on performance—higher dimensions showed diminishing returns while increasing training time.\n"
      ],
      "metadata": {
        "id": "ls0OqEyUPF0_"
      }
    },
    {
      "cell_type": "code",
      "source": [],
      "metadata": {
        "id": "ysuJ5z8NMNr2"
      },
      "execution_count": null,
      "outputs": []
    },
    {
      "cell_type": "markdown",
      "source": [
        "## ⚠️ Note on Clustering with KMeans\n",
        "\n",
        "Due to limited article content (titles only), using **TF-IDF + cosine similarity** was more appropriate than KMeans clustering. KMeans often struggles with short text and can produce less meaningful clusters.\n",
        "\n",
        "Instead, cosine similarity on TF-IDF vectors allowed us to:\n",
        "- Capture meaningful semantic relationships between titles\n",
        "- Recommend similar articles without needing full article bodies\n"
      ],
      "metadata": {
        "id": "pwfF8RpHPIXK"
      }
    },
    {
      "cell_type": "markdown",
      "source": [
        "## 📌 Evaluation & Deployment Strategy\n",
        "\n",
        "To evaluate the system in practice, I would:\n",
        "- Use **click-through rate (CTR)** or **read duration** as feedback signals\n",
        "- Run **A/B tests** comparing different recommendation strategies (rank-based vs. SVD)\n",
        "- Monitor **engagement metrics** over time for personalization quality\n",
        "\n",
        "This system could be deployed using batch inference or real-time scoring via API.\n"
      ],
      "metadata": {
        "id": "FlTEHtuNO2rD"
      }
    }
  ]
}